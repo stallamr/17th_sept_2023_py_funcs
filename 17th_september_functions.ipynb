{
 "cells": [
  {
   "cell_type": "code",
   "execution_count": null,
   "id": "1e8cb105-b8d0-4cc0-a12c-13363c85a289",
   "metadata": {},
   "outputs": [],
   "source": [
    "# 1. print numbers from 1 to 10 using a for loop.\n",
    "for i in range(1,11):\n",
    "    print(i)"
   ]
  },
  {
   "cell_type": "code",
   "execution_count": 5,
   "id": "1a03d8be-bb1c-42b7-b5b5-431c14836940",
   "metadata": {},
   "outputs": [
    {
     "name": "stdout",
     "output_type": "stream",
     "text": [
      "1\n",
      "2\n",
      "3\n",
      "4\n",
      "5\n",
      "----- while loop ----\n",
      "1\n",
      "2\n",
      "3\n",
      "4\n",
      "5\n"
     ]
    }
   ],
   "source": [
    "# 2. difference between a for loop and a while loop in Python\n",
    "\n",
    "# Forr loop is usually used when we know the total number of iterations or when you want to iterate over a iterable.\n",
    "# While loop is usually used when you want a code to be run until condition is true.\n",
    "\n",
    "for i in range(1,6):\n",
    "    print(i)\n",
    "\n",
    "print(\"----- while loop ----\")\n",
    "\n",
    "i = 1\n",
    "while i < 6:\n",
    "    print(i)\n",
    "    i += 1"
   ]
  },
  {
   "cell_type": "code",
   "execution_count": 6,
   "id": "c5f8dea3-77ee-4b95-b416-8ea752f19e84",
   "metadata": {},
   "outputs": [
    {
     "name": "stdout",
     "output_type": "stream",
     "text": [
      "5050\n"
     ]
    }
   ],
   "source": [
    "# 3. calculate the sum of all numbers from 1 to 100 using a for loop.\n",
    "s = 0\n",
    "for i in range(1, 101):\n",
    "    s += i\n",
    "print(s)"
   ]
  },
  {
   "cell_type": "code",
   "execution_count": 7,
   "id": "5aa7983b-725d-4185-b7ea-43e3ea11d3a2",
   "metadata": {},
   "outputs": [
    {
     "name": "stdout",
     "output_type": "stream",
     "text": [
      "1\n",
      "2\n",
      "3\n",
      "4\n",
      "5\n",
      "6\n",
      "7\n",
      "8\n",
      "9\n",
      "10\n"
     ]
    }
   ],
   "source": [
    "# 4. iterate through a list using a for loop in Python\n",
    "l = range(1,11)\n",
    "for i in l:\n",
    "    print(i)"
   ]
  },
  {
   "cell_type": "code",
   "execution_count": 8,
   "id": "7b8303dc-87f4-4e87-827d-833811599a02",
   "metadata": {},
   "outputs": [
    {
     "name": "stdout",
     "output_type": "stream",
     "text": [
      "3628800\n"
     ]
    }
   ],
   "source": [
    "# 5. find the product of all elements in a list using a for loop.\n",
    "m = 1\n",
    "l = range(1,11)\n",
    "for i in l:\n",
    "    m *= i\n",
    "print(m)"
   ]
  },
  {
   "cell_type": "code",
   "execution_count": 9,
   "id": "dfbc2ab5-0483-490a-9a79-bac103709a9f",
   "metadata": {},
   "outputs": [
    {
     "name": "stdout",
     "output_type": "stream",
     "text": [
      "2\n",
      "4\n",
      "6\n",
      "8\n",
      "10\n",
      "12\n",
      "14\n",
      "16\n",
      "18\n",
      "20\n"
     ]
    }
   ],
   "source": [
    "# 6. prints all even numbers from 1 to 20 using a for loop.\n",
    "for i in range(1,21):\n",
    "    if i % 2 == 0:\n",
    "        print (i)"
   ]
  },
  {
   "cell_type": "code",
   "execution_count": 10,
   "id": "4d63bedd-ece5-4a89-9c7c-5d8e99b4a71f",
   "metadata": {},
   "outputs": [
    {
     "name": "stdin",
     "output_type": "stream",
     "text": [
      "Enter number to calculate factorial:  5\n"
     ]
    },
    {
     "name": "stdout",
     "output_type": "stream",
     "text": [
      "120\n"
     ]
    }
   ],
   "source": [
    "# 7. calculates the factorial of a number using a for loop.\n",
    "n = int(input(\"Enter number to calculate factorial: \"))\n",
    "fact = 1\n",
    "for i in range(1, n+1):\n",
    "    fact *= i\n",
    "print(fact)"
   ]
  },
  {
   "cell_type": "code",
   "execution_count": 12,
   "id": "5a0544e7-29fd-4414-9f1d-d1e343127384",
   "metadata": {},
   "outputs": [
    {
     "name": "stdout",
     "output_type": "stream",
     "text": [
      "p\n",
      "w\n",
      "s\n",
      "k\n",
      "i\n",
      "l\n",
      "l\n",
      "s\n"
     ]
    }
   ],
   "source": [
    "# 8.  iterate through the characters of a string using a for loop in Python\n",
    "s = \"pwskills\"\n",
    "for i in s:\n",
    "    print(i)"
   ]
  },
  {
   "cell_type": "code",
   "execution_count": 14,
   "id": "285ee595-d591-40af-8b18-96d039a7b1bc",
   "metadata": {},
   "outputs": [
    {
     "name": "stdout",
     "output_type": "stream",
     "text": [
      "[794, 147, 769, 743, 112, 334, 340, 216, 27, 364]\n",
      "max number: 794\n"
     ]
    }
   ],
   "source": [
    "# 9. program to find the largest number in a list using a for loop.\n",
    "import random\n",
    "m = 0\n",
    "l = random.sample(range(1,1000), 10)\n",
    "print(l)\n",
    "for i in l:\n",
    "    if i > m:\n",
    "        m = i\n",
    "print(f\"max number: {m}\")"
   ]
  },
  {
   "cell_type": "code",
   "execution_count": 18,
   "id": "52e5fa4e-b5c9-419c-8047-a47759ff96ba",
   "metadata": {},
   "outputs": [
    {
     "name": "stdin",
     "output_type": "stream",
     "text": [
      "Enter number:  5\n"
     ]
    },
    {
     "name": "stdout",
     "output_type": "stream",
     "text": [
      "[0, 1, 1, 2, 3, 5]\n"
     ]
    }
   ],
   "source": [
    "# 10. Fibonacci sequence up to a specified limit using a for loop\n",
    "n = int(input(\"Enter number: \"))\n",
    "ll = []\n",
    "ll.append(0)\n",
    "ll.append(1)\n",
    "for i in range(2,n+1):\n",
    "    ll.append(ll[i-1] + ll[i-2])\n",
    "\n",
    "print(ll)"
   ]
  },
  {
   "cell_type": "code",
   "execution_count": 20,
   "id": "bb70645c-6d1d-4a52-b239-1f3c28886600",
   "metadata": {},
   "outputs": [
    {
     "name": "stdin",
     "output_type": "stream",
     "text": [
      "Enter the string:  pwskills\n"
     ]
    },
    {
     "name": "stdout",
     "output_type": "stream",
     "text": [
      "1\n"
     ]
    }
   ],
   "source": [
    "# 11. program to count the number of vowels in a given string using a for loop.\n",
    "vowels = \"aeiou\"\n",
    "cnt = 0\n",
    "st = input(\"Enter the string: \")\n",
    "for s in st.lower():\n",
    "    if s in vowels:\n",
    "       cnt +=1 \n",
    "print(cnt)"
   ]
  },
  {
   "cell_type": "code",
   "execution_count": 21,
   "id": "66a0dcd0-127a-41ea-850b-102d572c5fb3",
   "metadata": {},
   "outputs": [
    {
     "name": "stdin",
     "output_type": "stream",
     "text": [
      "Enter the number:  2\n"
     ]
    },
    {
     "name": "stdout",
     "output_type": "stream",
     "text": [
      "2 x 1 = 2\n",
      "2 x 2 = 4\n",
      "2 x 3 = 6\n",
      "2 x 4 = 8\n",
      "2 x 5 = 10\n",
      "2 x 6 = 12\n",
      "2 x 7 = 14\n",
      "2 x 8 = 16\n",
      "2 x 9 = 18\n",
      "2 x 10 = 20\n"
     ]
    }
   ],
   "source": [
    "# 12. program that generates a multiplication table for a given number \n",
    "n = int(input(\"Enter the number: \"))\n",
    "for i in range(1, 11):\n",
    "    print(f\"{n} x {i} = {n*i}\")"
   ]
  },
  {
   "cell_type": "code",
   "execution_count": 22,
   "id": "7a2f1a75-c45f-4f56-aa57-709086a29691",
   "metadata": {},
   "outputs": [
    {
     "name": "stdout",
     "output_type": "stream",
     "text": [
      "[10, 9, 8, 7, 6, 5, 4, 3, 2, 1]\n"
     ]
    }
   ],
   "source": [
    "# 13. program to reverse a list using a for loop.\n",
    "l = range(1,11)\n",
    "rl = []\n",
    "for i in l:\n",
    "    rl.append(l[-i])\n",
    "print(rl)"
   ]
  },
  {
   "cell_type": "code",
   "execution_count": 23,
   "id": "af2ad755-0a6c-42fe-a250-bd3751c40021",
   "metadata": {},
   "outputs": [
    {
     "name": "stdout",
     "output_type": "stream",
     "text": [
      "5\n",
      "6\n",
      "7\n",
      "8\n",
      "9\n",
      "10\n"
     ]
    }
   ],
   "source": [
    "# 14. program to find the common elements between two lists using a for loop.\n",
    "l1 = range(1,11)\n",
    "l2 = range(5,16)\n",
    "for i in l1:\n",
    "    if i in l2:\n",
    "        print(i)"
   ]
  },
  {
   "cell_type": "code",
   "execution_count": 1,
   "id": "f2ec54c7-454b-4e96-aab8-0a55c7a75526",
   "metadata": {},
   "outputs": [
    {
     "name": "stdout",
     "output_type": "stream",
     "text": [
      "('k1', 'v1')\n",
      "('k2', 'v2')\n",
      "('k3', 'v3')\n"
     ]
    }
   ],
   "source": [
    "# 15. loop to iterate through the keys and values of a dictionary in Python.\n",
    "d = {\"k1\":\"v1\", \"k2\":\"v2\", \"k3\":\"v3\"}\n",
    "for i in d.items():\n",
    "    print(i)"
   ]
  },
  {
   "cell_type": "code",
   "execution_count": 26,
   "id": "6f048142-b406-447e-8b97-7ee4ff012aad",
   "metadata": {},
   "outputs": [
    {
     "name": "stdin",
     "output_type": "stream",
     "text": [
      "Enter number1:  270\n",
      "Enter number2:  192\n"
     ]
    },
    {
     "name": "stdout",
     "output_type": "stream",
     "text": [
      "6\n"
     ]
    }
   ],
   "source": [
    "# 16. find the GCD using for loop\n",
    "m = int(input(\"Enter number1: \"))\n",
    "n = int(input(\"Enter number2: \"))\n",
    "gcd = 0\n",
    "# while True:\n",
    "#     if m == 0:\n",
    "#         gcd = n\n",
    "#         break\n",
    "#     if n == 0:\n",
    "#         gcd = m\n",
    "#         break\n",
    "#     r = m%n\n",
    "#     print(\"remainder: \", r)\n",
    "#     m = n\n",
    "#     n = r\n",
    "#     print(f\"m={m}, n={n}\")\n",
    "\n",
    "# print(gcd)\n",
    "\n",
    "for i in range(1, min(m,n)+1):\n",
    "    if m % i == 0 and n % i == 0:\n",
    "        if i > gcd:\n",
    "            gcd = i\n",
    "\n",
    "print(gcd)"
   ]
  },
  {
   "cell_type": "code",
   "execution_count": 16,
   "id": "88a60977-d248-4aa0-b2de-4f8eef3644e7",
   "metadata": {},
   "outputs": [
    {
     "name": "stdin",
     "output_type": "stream",
     "text": [
      "Enter a string:  madam\n"
     ]
    },
    {
     "name": "stdout",
     "output_type": "stream",
     "text": [
      "s: madam, rs: madam\n",
      "palindrome\n"
     ]
    }
   ],
   "source": [
    "# 17. checks if a string is a palindrome using a for loop.\n",
    "s = input(\"Enter a string: \")\n",
    "rs = \"\"\n",
    "for i in s:\n",
    "    rs = i+rs\n",
    "print(f\"s: {s}, rs: {rs}\")\n",
    "if s == rs:\n",
    "    print(\"palindrome\")\n",
    "else:\n",
    "    print(\"not palindrome\")"
   ]
  },
  {
   "cell_type": "code",
   "execution_count": 17,
   "id": "3a2f24bf-faad-4410-98e7-1a98e413f3c9",
   "metadata": {},
   "outputs": [
    {
     "name": "stdout",
     "output_type": "stream",
     "text": [
      "[1, 2, 3, 4, 5, 6, 7]\n"
     ]
    }
   ],
   "source": [
    "# 18. remove duplicates from a list using a for loop.\n",
    "l = [1,1,1,2,3,4,5,6,6,7,7]\n",
    "nl = []\n",
    "for i in l:\n",
    "    if i not in nl:\n",
    "        nl.append(i)\n",
    "\n",
    "print(nl)"
   ]
  },
  {
   "cell_type": "code",
   "execution_count": 18,
   "id": "c2bac91c-597e-4ce4-8220-048cc6b8c9ae",
   "metadata": {},
   "outputs": [
    {
     "name": "stdout",
     "output_type": "stream",
     "text": [
      "4\n"
     ]
    }
   ],
   "source": [
    "# 19. counts the number of words in a sentence using a for loop.\n",
    "s = \"fullstack data science pro\"\n",
    "cnt = 0\n",
    "for i in s.split():\n",
    "    cnt += 1\n",
    "print(cnt)"
   ]
  },
  {
   "cell_type": "code",
   "execution_count": 19,
   "id": "efc88a29-72d0-4361-9ece-ef7ce075375c",
   "metadata": {},
   "outputs": [
    {
     "name": "stdout",
     "output_type": "stream",
     "text": [
      "625\n"
     ]
    }
   ],
   "source": [
    "# 20. sum of all odd numbers from 1 to 50 using a for loop.\n",
    "s = 0\n",
    "for i in range(1,51):\n",
    "    if i % 2 != 0:\n",
    "        s += i\n",
    "print(s)"
   ]
  },
  {
   "cell_type": "code",
   "execution_count": 21,
   "id": "ce992dd0-06e9-4bf2-b18e-01fcab0436cd",
   "metadata": {},
   "outputs": [
    {
     "name": "stdin",
     "output_type": "stream",
     "text": [
      "Enter an year:  1900\n"
     ]
    },
    {
     "name": "stdout",
     "output_type": "stream",
     "text": [
      "Not leap year\n"
     ]
    }
   ],
   "source": [
    "# 21. checks if a given year is a leap year using a for loop.\n",
    "year = int(input(\"Enter an year: \"))\n",
    "if year % 4 == 0:\n",
    "    if year % 100 == 0:\n",
    "        if year % 400 == 0:\n",
    "            print(\"Leap year\")\n",
    "        else:\n",
    "            print(\"Not leap year\")\n",
    "    else:\n",
    "        print(\"Not leap year\")\n",
    "else:\n",
    "    print(\"Not leap year\")"
   ]
  },
  {
   "cell_type": "code",
   "execution_count": 25,
   "id": "a23b0002-8aaf-47cf-8311-2ccba6c8ad6a",
   "metadata": {},
   "outputs": [
    {
     "name": "stdin",
     "output_type": "stream",
     "text": [
      "Enter the number:  9\n"
     ]
    },
    {
     "name": "stdout",
     "output_type": "stream",
     "text": [
      "3\n"
     ]
    }
   ],
   "source": [
    "# 22. calculates the square root of a number using a for loop.\n",
    "n = int(input(\"Enter the number: \"))\n",
    "for i in range(1,int(n/2+1)):\n",
    "    if i*i <= n:\n",
    "        s = i\n",
    "print(s)"
   ]
  },
  {
   "cell_type": "code",
   "execution_count": 30,
   "id": "f1784eb8-12d5-432b-8d32-3e6c263a302f",
   "metadata": {},
   "outputs": [
    {
     "name": "stdin",
     "output_type": "stream",
     "text": [
      "Enter number1:  12\n",
      "Enter number2:  14\n"
     ]
    },
    {
     "name": "stdout",
     "output_type": "stream",
     "text": [
      "84\n"
     ]
    }
   ],
   "source": [
    "# 23. find the LCM using for loop\n",
    "m = int(input(\"Enter number1: \"))\n",
    "n = int(input(\"Enter number2: \"))\n",
    "lcm=0\n",
    "for i in range(max(m,n), (m*n)+1):\n",
    "    if i % m == 0 and i % n == 0:\n",
    "        lcm = i\n",
    "        break\n",
    "print(lcm)"
   ]
  },
  {
   "cell_type": "code",
   "execution_count": 2,
   "id": "9e5b929d-2774-4c1f-9749-6aee8470c5e5",
   "metadata": {},
   "outputs": [
    {
     "name": "stdin",
     "output_type": "stream",
     "text": [
      "Enter a number -2\n"
     ]
    },
    {
     "name": "stdout",
     "output_type": "stream",
     "text": [
      "negative\n"
     ]
    }
   ],
   "source": [
    "# 1. check if a number is positive, negative, or zero using an if-else statement.\n",
    "n = int(input(\"Enter a number\"))\n",
    "if n == 0:\n",
    "    print(\"zero\")\n",
    "elif n > 0:\n",
    "    print(\"positive\")\n",
    "else:\n",
    "    print(\"negative\")\n"
   ]
  },
  {
   "cell_type": "code",
   "execution_count": 3,
   "id": "a1742052-ac11-4d29-a1eb-959d0e34dc7e",
   "metadata": {},
   "outputs": [
    {
     "name": "stdin",
     "output_type": "stream",
     "text": [
      "Enter a number 20\n"
     ]
    },
    {
     "name": "stdout",
     "output_type": "stream",
     "text": [
      "even\n"
     ]
    }
   ],
   "source": [
    "# 2. checks if a given number is even or odd using an if-else statement.\n",
    "n = int(input(\"Enter a number\"))\n",
    "if n % 2 == 0:\n",
    "    print(\"even\")\n",
    "else:\n",
    "    print(\"odd\")"
   ]
  },
  {
   "cell_type": "code",
   "execution_count": 4,
   "id": "26a0b372-cf1d-478f-84a3-984204d63392",
   "metadata": {},
   "outputs": [
    {
     "name": "stdin",
     "output_type": "stream",
     "text": [
      "Enter a number 10\n"
     ]
    },
    {
     "name": "stdout",
     "output_type": "stream",
     "text": [
      "even\n"
     ]
    }
   ],
   "source": [
    "# 3. nested if-else statements in Python\n",
    "n = int(input(\"Enter a number\"))\n",
    "if n >= 0:\n",
    "    if n % 2 == 0:\n",
    "        print(\"even\")\n",
    "    else:\n",
    "        print(\"odd\")"
   ]
  },
  {
   "cell_type": "code",
   "execution_count": 5,
   "id": "d953a890-f60b-44ca-8278-200e4f91696a",
   "metadata": {},
   "outputs": [
    {
     "name": "stdin",
     "output_type": "stream",
     "text": [
      "Enter the numbers:  10 20 30\n"
     ]
    },
    {
     "name": "stdout",
     "output_type": "stream",
     "text": [
      "30\n"
     ]
    }
   ],
   "source": [
    "# 4.  largest of three numbers using if-else\n",
    "a,b,c=input(\"Enter the numbers: \").split()\n",
    "if a > b and a > c:\n",
    "    print(a)\n",
    "elif b > a and b > c:\n",
    "    print(b)\n",
    "else:\n",
    "    print(c)"
   ]
  },
  {
   "cell_type": "code",
   "execution_count": 6,
   "id": "19081036-4df2-4a1a-993c-0452d9e0b973",
   "metadata": {},
   "outputs": [
    {
     "name": "stdin",
     "output_type": "stream",
     "text": [
      "Enter a number -10\n"
     ]
    },
    {
     "name": "stdout",
     "output_type": "stream",
     "text": [
      "10\n"
     ]
    }
   ],
   "source": [
    "# 5. absolute value of a number using if-else.\n",
    "n = int(input(\"Enter a number\"))\n",
    "if n > 0:\n",
    "    print(n)\n",
    "else:\n",
    "    print(-n)"
   ]
  },
  {
   "cell_type": "code",
   "execution_count": 7,
   "id": "c85be2b9-efbe-4ab2-bbfe-105fb7ee2d42",
   "metadata": {},
   "outputs": [
    {
     "name": "stdin",
     "output_type": "stream",
     "text": [
      "Enter character:  a\n"
     ]
    },
    {
     "name": "stdout",
     "output_type": "stream",
     "text": [
      "vowel\n"
     ]
    }
   ],
   "source": [
    "# 6. checks if a given character is a vowel or consonant using if-else.\n",
    "vowels=\"aeiou\"\n",
    "s = input(\"Enter character: \")\n",
    "if s in vowels:\n",
    "    print(\"vowel\")\n",
    "else:\n",
    "    print(\"consonant\")"
   ]
  },
  {
   "cell_type": "code",
   "execution_count": 8,
   "id": "bdc54fb3-4749-443a-8b5f-c58469a060e2",
   "metadata": {},
   "outputs": [
    {
     "name": "stdin",
     "output_type": "stream",
     "text": [
      "Enter user age:  20\n"
     ]
    },
    {
     "name": "stdout",
     "output_type": "stream",
     "text": [
      "Eligible\n"
     ]
    }
   ],
   "source": [
    "# 7. if a user is eligible to vote based on their age using if-else.\n",
    "age = int(input(\"Enter user age: \"))\n",
    "if age >= 18:\n",
    "    print(\"Eligible\")\n",
    "else:\n",
    "    print(\"Not eligible\")"
   ]
  },
  {
   "cell_type": "code",
   "execution_count": 9,
   "id": "7d2b5796-f0b3-403c-9c1f-2a1fdb15d796",
   "metadata": {},
   "outputs": [
    {
     "name": "stdin",
     "output_type": "stream",
     "text": [
      "Enter product price:  200\n"
     ]
    },
    {
     "name": "stdout",
     "output_type": "stream",
     "text": [
      "5\n"
     ]
    }
   ],
   "source": [
    "# 8. calculates the discount amount based on the purchase amount using if-else.\n",
    "amt = int(input(\"Enter product price: \"))\n",
    "discount = 0\n",
    "if amt > 500:\n",
    "    discount = 10\n",
    "else:\n",
    "    discount = 5\n",
    "print(discount)"
   ]
  },
  {
   "cell_type": "code",
   "execution_count": 10,
   "id": "3611d167-f542-45be-b53e-c1ad64cc1d5d",
   "metadata": {},
   "outputs": [
    {
     "name": "stdin",
     "output_type": "stream",
     "text": [
      "Enter number:  40\n"
     ]
    },
    {
     "name": "stdout",
     "output_type": "stream",
     "text": [
      ">30\n"
     ]
    }
   ],
   "source": [
    "# 9.  check if a number is within a specified range using if-else.\n",
    "n = int(input(\"Enter number: \"))\n",
    "if n >= 0 and n < 10:\n",
    "    print(\"0-10\")\n",
    "elif n >= 10 and n < 20:\n",
    "    print(\"10-20\")\n",
    "elif n >= 20 and n < 30:\n",
    "    print(\"20-30\")\n",
    "else:\n",
    "    print(\">30\")"
   ]
  },
  {
   "cell_type": "code",
   "execution_count": 11,
   "id": "32c9fd63-bad6-4564-a9a0-6fb23b8dd22c",
   "metadata": {},
   "outputs": [
    {
     "name": "stdin",
     "output_type": "stream",
     "text": [
      "Enter subject score:  55\n"
     ]
    },
    {
     "name": "stdout",
     "output_type": "stream",
     "text": [
      "C\n"
     ]
    }
   ],
   "source": [
    "# 10. determines the grade of a student based on their score using if-else.\n",
    "score = int(input(\"Enter subject score: \"))\n",
    "if score >= 80:\n",
    "    print(\"A\")\n",
    "elif score >= 65 and score < 80:\n",
    "    print(\"B\")\n",
    "elif score >= 50 and score < 65:\n",
    "    print(\"C\")\n",
    "else:\n",
    "    print(\"D\")"
   ]
  },
  {
   "cell_type": "code",
   "execution_count": 13,
   "id": "a69c08af-7ce6-4bdf-a26a-ac95467ec808",
   "metadata": {},
   "outputs": [
    {
     "name": "stdin",
     "output_type": "stream",
     "text": [
      "Enter the string:  \n"
     ]
    },
    {
     "name": "stdout",
     "output_type": "stream",
     "text": [
      "Empty string\n"
     ]
    }
   ],
   "source": [
    "# 11. check if a string is empty or not using if-else.\n",
    "s = input(\"Enter the string: \")\n",
    "empty_str=\"\"\n",
    "if s == empty_str:\n",
    "    print(\"Empty string\")\n",
    "else:\n",
    "    print(\"Not an empty string\")"
   ]
  },
  {
   "cell_type": "code",
   "execution_count": 16,
   "id": "8c822fb6-5563-4088-9d11-c1422ed92c1d",
   "metadata": {},
   "outputs": [
    {
     "name": "stdin",
     "output_type": "stream",
     "text": [
      "Enter sides of triangle:  10 10 20\n"
     ]
    },
    {
     "name": "stdout",
     "output_type": "stream",
     "text": [
      "Isoceles\n"
     ]
    }
   ],
   "source": [
    "# 12. identifies the type of a triangle\n",
    "a,b,c=input(\"Enter sides of triangle: \").split()\n",
    "if a == b and b == c and a == c:\n",
    "    print(\"Equilateral\")\n",
    "elif a == b or b == c or a == c:\n",
    "    print(\"Isoceles\")\n",
    "else:\n",
    "    print(\"Scalene\")"
   ]
  },
  {
   "cell_type": "code",
   "execution_count": 17,
   "id": "62e09ec4-2985-4c6a-97a5-6671c0ff6fbb",
   "metadata": {},
   "outputs": [
    {
     "name": "stdin",
     "output_type": "stream",
     "text": [
      "Enter number of day:  3\n"
     ]
    },
    {
     "name": "stdout",
     "output_type": "stream",
     "text": [
      "Wednesday\n"
     ]
    }
   ],
   "source": [
    "# 13. day of the week based on a user-provided number using if-else\n",
    "day = int(input(\"Enter number of day: \"))\n",
    "if day % 7 == 0:\n",
    "    print(\"Sunday\")\n",
    "elif day % 7 == 1:\n",
    "    print(\"Monday\")\n",
    "elif day % 7 == 2:\n",
    "    print(\"Tuesday\")\n",
    "elif day % 7 == 3:\n",
    "    print(\"Wednesday\")\n",
    "elif day % 7 == 4:\n",
    "    print(\"Thursday\")\n",
    "elif day % 7 == 5:\n",
    "    print(\"Friday\")\n",
    "else:\n",
    "    print(\"Saturday\")"
   ]
  },
  {
   "cell_type": "code",
   "execution_count": 19,
   "id": "5d805f00-eafe-44ad-b111-fba5f23655df",
   "metadata": {},
   "outputs": [
    {
     "name": "stdin",
     "output_type": "stream",
     "text": [
      "Enter year:  1900\n"
     ]
    },
    {
     "name": "stdout",
     "output_type": "stream",
     "text": [
      "Not leap year\n"
     ]
    }
   ],
   "source": [
    "# 14. if a given year is a leap year using both if-else and a function.\n",
    "def leap(year):\n",
    "    if year % 4 == 0:\n",
    "        if year % 100 == 0:\n",
    "            if year % 400 == 0:\n",
    "                print(\"Leap year\")\n",
    "            else:\n",
    "                print(\"Not leap year\")\n",
    "        else:\n",
    "            print(\"Not leap year\")\n",
    "    else:\n",
    "        print(\"Not leap year\")\n",
    "\n",
    "year = int(input(\"Enter year: \"))\n",
    "leap(year)"
   ]
  },
  {
   "cell_type": "code",
   "execution_count": 20,
   "id": "b2779109-ed58-4002-9182-77b8bba088bc",
   "metadata": {},
   "outputs": [
    {
     "data": {
      "text/plain": [
       "[2, 4, 6, 8, 10, 12, 14, 16, 18]"
      ]
     },
     "execution_count": 20,
     "metadata": {},
     "output_type": "execute_result"
    }
   ],
   "source": [
    "# 1. map\n",
    "def mul(n):\n",
    "    return n*2\n",
    "\n",
    "list(map(mul, range(1,10)))"
   ]
  },
  {
   "cell_type": "code",
   "execution_count": 22,
   "id": "c13a6b9b-b953-4905-8865-6f93663db379",
   "metadata": {},
   "outputs": [
    {
     "data": {
      "text/plain": [
       "[1, 4, 9, 16]"
      ]
     },
     "execution_count": 22,
     "metadata": {},
     "output_type": "execute_result"
    }
   ],
   "source": [
    "# 2. map - square\n",
    "list(map(lambda n: n**2, range(1,5)))"
   ]
  },
  {
   "cell_type": "code",
   "execution_count": 24,
   "id": "dd79bed3-18b9-46ec-ac59-356b6aea9bdb",
   "metadata": {},
   "outputs": [
    {
     "data": {
      "text/plain": [
       "['PW', 'SKILLS']"
      ]
     },
     "execution_count": 24,
     "metadata": {},
     "output_type": "execute_result"
    }
   ],
   "source": [
    "# 4. convert a list of names to uppercase\n",
    "list(map(lambda s: s.upper(), [\"pw\", \"skills\"]))"
   ]
  },
  {
   "cell_type": "code",
   "execution_count": 25,
   "id": "21a778d8-90f7-4b50-b47b-5a918164c575",
   "metadata": {},
   "outputs": [
    {
     "data": {
      "text/plain": [
       "[2, 6]"
      ]
     },
     "execution_count": 25,
     "metadata": {},
     "output_type": "execute_result"
    }
   ],
   "source": [
    "# 5. calculate the length of each word \n",
    "list(map(lambda s: len(s), [\"pw\", \"skills\"]))"
   ]
  },
  {
   "cell_type": "code",
   "execution_count": 27,
   "id": "d6c3336e-8a6c-47ee-9406-9bb134100211",
   "metadata": {},
   "outputs": [
    {
     "data": {
      "text/plain": [
       "[[1, 2], [3, 4], [5, 6]]"
      ]
     },
     "execution_count": 27,
     "metadata": {},
     "output_type": "execute_result"
    }
   ],
   "source": [
    "# 6. apply a custom function to elements of multiple lists simultaneously in Python\n",
    "list(map(lambda s: s, [[1,2], [3,4], [5,6]]))"
   ]
  },
  {
   "cell_type": "code",
   "execution_count": 29,
   "id": "ad12d9f0-e7ae-4391-afc1-8d39a64ec5b2",
   "metadata": {},
   "outputs": [
    {
     "data": {
      "text/plain": [
       "[32.0, 50.0, 68.0, 86.0]"
      ]
     },
     "execution_count": 29,
     "metadata": {},
     "output_type": "execute_result"
    }
   ],
   "source": [
    "# 7. convert a list of temperatures from Celsius to Fahrenheit.\n",
    "def temperature(cel):\n",
    "    return (cel * 9/5)+32\n",
    "\n",
    "list(map(temperature, [0, 10, 20, 30]))"
   ]
  },
  {
   "cell_type": "code",
   "execution_count": 30,
   "id": "e539fa3e-bfbe-4cc7-9749-485b6669294a",
   "metadata": {},
   "outputs": [
    {
     "data": {
      "text/plain": [
       "[10, 12, 13]"
      ]
     },
     "execution_count": 30,
     "metadata": {},
     "output_type": "execute_result"
    }
   ],
   "source": [
    "# 8. round each element of a list of floating-point numbers to the nearest integer\n",
    "list(map(lambda s: round(s), [10.2, 11.67, 12.8]))"
   ]
  },
  {
   "cell_type": "code",
   "execution_count": 31,
   "id": "391365d7-a6a5-4ba9-9890-b14c31341866",
   "metadata": {},
   "outputs": [
    {
     "data": {
      "text/plain": [
       "55"
      ]
     },
     "execution_count": 31,
     "metadata": {},
     "output_type": "execute_result"
    }
   ],
   "source": [
    "# 1. reduce \n",
    "from functools import reduce\n",
    "reduce(lambda a,b: a+b, range(1,11))"
   ]
  },
  {
   "cell_type": "code",
   "execution_count": 33,
   "id": "2dcfa4d8-e658-407e-b546-1bdf451b7685",
   "metadata": {},
   "outputs": [
    {
     "data": {
      "text/plain": [
       "3628800"
      ]
     },
     "execution_count": 33,
     "metadata": {},
     "output_type": "execute_result"
    }
   ],
   "source": [
    "# 2. product of all elements in a list.\n",
    "reduce(lambda a,b: a*b, range(1,11))"
   ]
  },
  {
   "cell_type": "code",
   "execution_count": 34,
   "id": "5933c59f-f5b9-42a4-86dd-da0a6bf30205",
   "metadata": {},
   "outputs": [
    {
     "data": {
      "text/plain": [
       "10"
      ]
     },
     "execution_count": 34,
     "metadata": {},
     "output_type": "execute_result"
    }
   ],
   "source": [
    "# 3. find the maximum element in a list of numbers.\n",
    "reduce(lambda a,b : a if a > b else b, range(1,11))"
   ]
  },
  {
   "cell_type": "code",
   "execution_count": 35,
   "id": "496372ae-eb52-4b42-a6a5-8492c1b99613",
   "metadata": {},
   "outputs": [
    {
     "data": {
      "text/plain": [
       "'pwskills'"
      ]
     },
     "execution_count": 35,
     "metadata": {},
     "output_type": "execute_result"
    }
   ],
   "source": [
    "# 4. concatenate a list of strings into a single string\n",
    "reduce(lambda a,b: a+b, [\"pw\", \"skills\"])"
   ]
  },
  {
   "cell_type": "code",
   "execution_count": 37,
   "id": "77a79d6b-fce0-4431-9243-0dbb80767674",
   "metadata": {},
   "outputs": [
    {
     "name": "stdin",
     "output_type": "stream",
     "text": [
      "Enter a number:  5\n"
     ]
    },
    {
     "data": {
      "text/plain": [
       "120"
      ]
     },
     "execution_count": 37,
     "metadata": {},
     "output_type": "execute_result"
    }
   ],
   "source": [
    "# 5. factorial of a number\n",
    "n = int(input(\"Enter a number: \"))\n",
    "reduce(lambda a,b: a*b, range(1,n+1))"
   ]
  },
  {
   "cell_type": "code",
   "execution_count": 39,
   "id": "d59680af-9f99-455c-b789-31388341212f",
   "metadata": {},
   "outputs": [
    {
     "data": {
      "text/plain": [
       "6"
      ]
     },
     "execution_count": 39,
     "metadata": {},
     "output_type": "execute_result"
    }
   ],
   "source": [
    "# 6. find the GCD (Greatest Common Divisor) of a list of numbers.\n",
    "def gcd(m,n):\n",
    "    g = 0\n",
    "    for i in range(1, min(m,n)+1):\n",
    "        if m % i == 0 and n % i == 0:\n",
    "            if i > g:\n",
    "                g = i\n",
    "    return g\n",
    "reduce(gcd, [270, 192])"
   ]
  },
  {
   "cell_type": "code",
   "execution_count": 41,
   "id": "ae553046-9950-4478-87c8-f85d5f3d5151",
   "metadata": {},
   "outputs": [
    {
     "name": "stdin",
     "output_type": "stream",
     "text": [
      "Enter a number:  123\n"
     ]
    },
    {
     "data": {
      "text/plain": [
       "6"
      ]
     },
     "execution_count": 41,
     "metadata": {},
     "output_type": "execute_result"
    }
   ],
   "source": [
    "# 7. sum of the digits of a given number.\n",
    "n=input(\"Enter a number: \")\n",
    "l=[]\n",
    "for i in n:\n",
    "    l.append(int(i))\n",
    "\n",
    "reduce(lambda a,b:a+b, l)"
   ]
  },
  {
   "cell_type": "code",
   "execution_count": 43,
   "id": "2acb5e45-dcdf-4048-853f-483999f2b0e9",
   "metadata": {},
   "outputs": [
    {
     "data": {
      "text/plain": [
       "[2, 4, 6, 8, 10]"
      ]
     },
     "execution_count": 43,
     "metadata": {},
     "output_type": "execute_result"
    }
   ],
   "source": [
    "# 1. Filter \n",
    "# Filters the given iterable based on the function that returns True or False\n",
    "# print even numbers in given list\n",
    "list(filter(lambda a: True if a % 2 ==0 else False, range(1,11)))"
   ]
  },
  {
   "cell_type": "code",
   "execution_count": 44,
   "id": "fea913e0-41c7-49ff-95f2-f04e62630cd6",
   "metadata": {},
   "outputs": [
    {
     "data": {
      "text/plain": [
       "[2, 4, 6, 8, 10]"
      ]
     },
     "execution_count": 44,
     "metadata": {},
     "output_type": "execute_result"
    }
   ],
   "source": [
    "# 2. select even numbers from a list of integers.\n",
    "list(filter(lambda a: True if a % 2 ==0 else False, range(1,11)))"
   ]
  },
  {
   "cell_type": "code",
   "execution_count": 45,
   "id": "3c8cee1d-f8b4-45f2-99fc-b7b95e243bb2",
   "metadata": {},
   "outputs": [
    {
     "data": {
      "text/plain": [
       "['pw', 'perfect']"
      ]
     },
     "execution_count": 45,
     "metadata": {},
     "output_type": "execute_result"
    }
   ],
   "source": [
    "# 3.  select names that start with a specific letter from a list of strings.\n",
    "list(filter(lambda s: True if s[0] == 'p' else False, [\"pw\", \"perfect\", \"skills\"]))"
   ]
  },
  {
   "cell_type": "code",
   "execution_count": 46,
   "id": "80c3fa50-2ff5-4390-b97f-67a332cd9455",
   "metadata": {},
   "outputs": [
    {
     "data": {
      "text/plain": [
       "[1, 2, 3, 5, 7, 11, 13, 17, 19]"
      ]
     },
     "execution_count": 46,
     "metadata": {},
     "output_type": "execute_result"
    }
   ],
   "source": [
    "# 4. select prime numbers from a list of integers.\n",
    "def prime(n):\n",
    "    for i in range(2, n):\n",
    "        if n % i == 0:\n",
    "            return False\n",
    "    return True\n",
    "list(filter(prime, range(1,21)))"
   ]
  },
  {
   "cell_type": "code",
   "execution_count": 47,
   "id": "a0c238ed-3199-42ad-8ce3-3e9290196e2f",
   "metadata": {},
   "outputs": [
    {
     "data": {
      "text/plain": [
       "[1, 2]"
      ]
     },
     "execution_count": 47,
     "metadata": {},
     "output_type": "execute_result"
    }
   ],
   "source": [
    "# 5. remove None values from a list in Python\n",
    "list(filter(lambda n: True if n != None else False, [None, 1, 2, None]))"
   ]
  },
  {
   "cell_type": "code",
   "execution_count": 48,
   "id": "71632a48-3e4a-4abd-a044-cf64fff86ecd",
   "metadata": {},
   "outputs": [
    {
     "data": {
      "text/plain": [
       "['skills', 'data', 'science']"
      ]
     },
     "execution_count": 48,
     "metadata": {},
     "output_type": "execute_result"
    }
   ],
   "source": [
    "# 6. select words longer than a certain length from a list of strings.\n",
    "list(filter(lambda s: True if len(s) > 2 else False, [\"pw\", \"skills\", \"data\", \"science\"]))"
   ]
  },
  {
   "cell_type": "code",
   "execution_count": 49,
   "id": "1df4161d-95d2-449a-a66b-8d5b6a130b5a",
   "metadata": {},
   "outputs": [
    {
     "data": {
      "text/plain": [
       "[6, 7, 8, 9, 10, 11, 12, 13, 14, 15, 16, 17, 18, 19]"
      ]
     },
     "execution_count": 49,
     "metadata": {},
     "output_type": "execute_result"
    }
   ],
   "source": [
    "# 7. select elements greater than a specified threshold from a list of values.\n",
    "list(filter(lambda n: True if n > 5 else False, range(1,20)))"
   ]
  },
  {
   "cell_type": "code",
   "execution_count": null,
   "id": "7bdb25a0-e255-452c-bd23-95d7ded18429",
   "metadata": {},
   "outputs": [],
   "source": [
    "# 1. concept of recursion in Python. How does it differ from iteration?\n",
    "# recursion calls itself until it hits the exit condition"
   ]
  },
  {
   "cell_type": "code",
   "execution_count": 2,
   "id": "9e022f23-e87b-4654-855b-97583a184149",
   "metadata": {},
   "outputs": [
    {
     "name": "stdin",
     "output_type": "stream",
     "text": [
      "Enter number:  6\n"
     ]
    },
    {
     "data": {
      "text/plain": [
       "720"
      ]
     },
     "execution_count": 2,
     "metadata": {},
     "output_type": "execute_result"
    }
   ],
   "source": [
    "# 2. calculate the factorial of a number using recursion.\n",
    "def fact(num):\n",
    "    if num == 1:\n",
    "        return num\n",
    "    else:\n",
    "        return num * fact(num-1)\n",
    "\n",
    "n = int(input(\"Enter number: \"))\n",
    "fact(n)"
   ]
  },
  {
   "cell_type": "code",
   "execution_count": 3,
   "id": "fdb0f841-d172-4294-97ff-0e2def28dfb0",
   "metadata": {},
   "outputs": [
    {
     "data": {
      "text/plain": [
       "8"
      ]
     },
     "execution_count": 3,
     "metadata": {},
     "output_type": "execute_result"
    }
   ],
   "source": [
    "# 3. function to find the nth Fibonacci number.\n",
    "def fib(num):\n",
    "    if num == 0:\n",
    "        return 1\n",
    "    if num == 1:\n",
    "        return 1\n",
    "    return fib(num-2)+fib(num-1)\n",
    "n = int(input(\"Enter number: \"))\n",
    "fib(n)"
   ]
  },
  {
   "cell_type": "code",
   "execution_count": 7,
   "id": "530c771c-b2d2-4b78-87d8-9e6f03447b54",
   "metadata": {},
   "outputs": [
    {
     "data": {
      "text/plain": [
       "55"
      ]
     },
     "execution_count": 7,
     "metadata": {},
     "output_type": "execute_result"
    }
   ],
   "source": [
    "# 4. calculate the sum of all elements in a list.\n",
    "l = range(1,11)\n",
    "cnt = 0\n",
    "\n",
    "def sum_list(n):\n",
    "    if n >= len(l):\n",
    "        return cnt\n",
    "    return l[n] + sum_list(n+1)\n",
    "\n",
    "sum_list(0)"
   ]
  },
  {
   "cell_type": "code",
   "execution_count": 8,
   "id": "a00c795a-c2ab-4f8e-85b6-93e81b3f1177",
   "metadata": {},
   "outputs": [],
   "source": [
    "# 5. How can you prevent a recursive function from running indefinitely\n",
    "# Mention the basic exit / return criteria"
   ]
  },
  {
   "cell_type": "code",
   "execution_count": 9,
   "id": "303af484-0356-4c1a-a1cf-324b40bb8c36",
   "metadata": {},
   "outputs": [
    {
     "name": "stdin",
     "output_type": "stream",
     "text": [
      "Enter number1:  270\n",
      "Enter number2:  192\n"
     ]
    },
    {
     "data": {
      "text/plain": [
       "6"
      ]
     },
     "execution_count": 9,
     "metadata": {},
     "output_type": "execute_result"
    }
   ],
   "source": [
    "# 6. find the greatest common divisor (GCD) of two numbers using the Euclidean algorithm.\n",
    "m = int(input(\"Enter number1: \"))\n",
    "n = int(input(\"Enter number2: \"))\n",
    "\n",
    "def gcd_num(a, b):\n",
    "    if a == 0:\n",
    "        return b\n",
    "    if b == 0:\n",
    "        return a\n",
    "    r = a % b\n",
    "    return gcd_num(b, r)\n",
    "\n",
    "\n",
    "gcd_num(m,n)"
   ]
  },
  {
   "cell_type": "code",
   "execution_count": 1,
   "id": "3fed4acf-5425-4cf3-bec5-4bf4fe02c977",
   "metadata": {},
   "outputs": [
    {
     "name": "stdin",
     "output_type": "stream",
     "text": [
      "Enter string:  rajehs\n"
     ]
    },
    {
     "data": {
      "text/plain": [
       "'shejar'"
      ]
     },
     "execution_count": 1,
     "metadata": {},
     "output_type": "execute_result"
    }
   ],
   "source": [
    "# 7. Python function to reverse a string.\n",
    "s = input(\"Enter string: \")\n",
    "def rev_str(s):\n",
    "    if len(s) == 1:\n",
    "        return s\n",
    "    else:\n",
    "        return rev_str(s[1:]) + s[0]\n",
    "\n",
    "rev_str(s)"
   ]
  },
  {
   "cell_type": "code",
   "execution_count": 13,
   "id": "c0e3e50c-09cf-4733-ad3d-69af0dce125f",
   "metadata": {},
   "outputs": [
    {
     "name": "stdin",
     "output_type": "stream",
     "text": [
      "Enter x:  3\n",
      "Enter n:  3\n"
     ]
    },
    {
     "data": {
      "text/plain": [
       "81"
      ]
     },
     "execution_count": 13,
     "metadata": {},
     "output_type": "execute_result"
    }
   ],
   "source": [
    "# 8. calculate the power of a number\n",
    "x = int(input(\"Enter x: \"))\n",
    "n = int(input(\"Enter n: \"))\n",
    "def pow_num(n):\n",
    "    if n == 0:\n",
    "        return x\n",
    "    return x*pow_num(n-1)\n",
    "pow_num(n)"
   ]
  },
  {
   "cell_type": "code",
   "execution_count": 3,
   "id": "20c2ccda-9b16-4eff-a21d-65b1c5f48d4f",
   "metadata": {},
   "outputs": [
    {
     "name": "stdin",
     "output_type": "stream",
     "text": [
      "Enter string:  abc\n"
     ]
    },
    {
     "name": "stdout",
     "output_type": "stream",
     "text": [
      "abc\n",
      "acb\n",
      "bac\n",
      "bca\n",
      "cba\n",
      "cab\n"
     ]
    }
   ],
   "source": [
    "# 9. find all permutations of a given string.\n",
    "s=input(\"Enter string: \")\n",
    "ans=\"\"\n",
    "def str_perm(s, start=0):\n",
    "    if len(s) - 1 == start:\n",
    "        print(\"\".join(s))\n",
    "        return\n",
    "    for i in range(start, len(s)):\n",
    "        s[start], s[i] = s[i], s[start]\n",
    "        str_perm(s, start+1)\n",
    "        s[start], s[i] = s[i], s[start]\n",
    "        \n",
    "\n",
    "ls=list(s)\n",
    "str_perm(ls)"
   ]
  },
  {
   "cell_type": "code",
   "execution_count": 25,
   "id": "28b95ede-9274-4b5f-897d-4d22e307c29b",
   "metadata": {},
   "outputs": [
    {
     "name": "stdin",
     "output_type": "stream",
     "text": [
      "Enter string:  noon\n"
     ]
    },
    {
     "name": "stdout",
     "output_type": "stream",
     "text": [
      "palindrome\n"
     ]
    }
   ],
   "source": [
    "# 10. check if a string is a palindrome\n",
    "s = input(\"Enter string: \")\n",
    "def rev_str(s):\n",
    "    if len(s) == 1:\n",
    "        return s\n",
    "    else:\n",
    "        return rev_str(s[1:]) + s[0]\n",
    "\n",
    "if s == rev_str(s):\n",
    "    print(\"palindrome\")\n",
    "else:\n",
    "    print(\"Not palindrome\")"
   ]
  },
  {
   "cell_type": "code",
   "execution_count": 4,
   "id": "4f350696-7551-49e2-b9c5-4a8067dee341",
   "metadata": {},
   "outputs": [
    {
     "name": "stdin",
     "output_type": "stream",
     "text": [
      "Enter string:  abc\n"
     ]
    },
    {
     "name": "stdout",
     "output_type": "stream",
     "text": [
      "abc\n",
      "ab\n",
      "ac\n",
      "a\n",
      "bc\n",
      "b\n",
      "c\n",
      "\n"
     ]
    }
   ],
   "source": [
    "# 11. generate all possible combinations of a list of elements\n",
    "s = input(\"Enter string: \")\n",
    "def str_com(s, ans, index):\n",
    "    if len(s) == index:\n",
    "        print(ans)\n",
    "        return\n",
    "    str_com(s, ans+s[index], index+1)\n",
    "    str_com(s, ans, index+1)\n",
    "\n",
    "str_com(s,\"\",0)"
   ]
  },
  {
   "cell_type": "code",
   "execution_count": null,
   "id": "14d8502b-1c17-4d51-b11e-e0af74921e52",
   "metadata": {},
   "outputs": [],
   "source": []
  }
 ],
 "metadata": {
  "kernelspec": {
   "display_name": "Python 3 (ipykernel)",
   "language": "python",
   "name": "python3"
  },
  "language_info": {
   "codemirror_mode": {
    "name": "ipython",
    "version": 3
   },
   "file_extension": ".py",
   "mimetype": "text/x-python",
   "name": "python",
   "nbconvert_exporter": "python",
   "pygments_lexer": "ipython3",
   "version": "3.10.8"
  }
 },
 "nbformat": 4,
 "nbformat_minor": 5
}
